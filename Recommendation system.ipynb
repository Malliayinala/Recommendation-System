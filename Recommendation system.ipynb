{
 "cells": [
  {
   "cell_type": "code",
   "execution_count": 12,
   "id": "78436029-cfb1-4597-abd9-86f6b5ea21b1",
   "metadata": {},
   "outputs": [
    {
     "name": "stdout",
     "output_type": "stream",
     "text": [
      "\n",
      "🎯 Top 5 Recommendations for User 254:\n",
      "\n",
      "📚 Book ISBN: 043935806X — Predicted Rating: 4.97\n",
      "📚 Book ISBN: 059035342X — Predicted Rating: 4.14\n",
      "📚 Book ISBN: 0345339681 — Predicted Rating: 2.43\n",
      "📚 Book ISBN: 0385504209 — Predicted Rating: 1.76\n",
      "📚 Book ISBN: 0679429220 — Predicted Rating: 1.65\n",
      "\n",
      "📈 RMSE: 1.0693\n"
     ]
    }
   ],
   "source": [
    "import pandas as pd\n",
    "import numpy as np\n",
    "from sklearn.decomposition import TruncatedSVD\n",
    "from sklearn.metrics import mean_squared_error\n",
    "from math import sqrt\n",
    "\n",
    "# 1. Load dataset\n",
    "df = pd.read_csv(\"Ratings.csv\")\n",
    "df.rename(columns={'User-ID': 'userId', 'ISBN': 'itemId', 'Book-Rating': 'rating'}, inplace=True)\n",
    "\n",
    "# 2. Filter meaningful ratings\n",
    "df = df[df['rating'] > 0]\n",
    "\n",
    "# ✅ 3. Keep only active users and popular items\n",
    "active_users = df['userId'].value_counts()[df['userId'].value_counts() > 50].index\n",
    "popular_items = df['itemId'].value_counts()[df['itemId'].value_counts() > 50].index\n",
    "df = df[df['userId'].isin(active_users) & df['itemId'].isin(popular_items)]\n",
    "\n",
    "# ✅ 4. Create user-item matrix\n",
    "ratings_matrix = df.pivot_table(index='userId', columns='itemId', values='rating').fillna(0)\n",
    "\n",
    "# ✅ 5. Apply SVD\n",
    "svd = TruncatedSVD(n_components=20, random_state=42)\n",
    "svd_matrix = svd.fit_transform(ratings_matrix)\n",
    "\n",
    "# ✅ 6. Predicted Ratings\n",
    "predicted_ratings = np.dot(svd_matrix, svd.components_)\n",
    "pred_df = pd.DataFrame(predicted_ratings, index=ratings_matrix.index, columns=ratings_matrix.columns)\n",
    "\n",
    "# ✅ 7. Recommend Top 5 books for a specific user\n",
    "user_id = ratings_matrix.index[0]\n",
    "user_rated = ratings_matrix.loc[user_id][ratings_matrix.loc[user_id] > 0].index\n",
    "unrated_items = [i for i in ratings_matrix.columns if i not in user_rated]\n",
    "top_preds = pred_df.loc[user_id][unrated_items].sort_values(ascending=False).head(5)\n",
    "\n",
    "print(f\"\\n🎯 Top 5 Recommendations for User {user_id}:\\n\")\n",
    "for item_id, rating in top_preds.items():\n",
    "    print(f\"📚 Book ISBN: {item_id} — Predicted Rating: {rating:.2f}\")\n",
    "\n",
    "# ✅ 8. RMSE Calculation\n",
    "true = ratings_matrix.values.flatten()\n",
    "pred = pred_df.values.flatten()\n",
    "rmse = sqrt(mean_squared_error(true, pred))\n",
    "print(f\"\\n📈 RMSE: {rmse:.4f}\")\n"
   ]
  },
  {
   "cell_type": "code",
   "execution_count": null,
   "id": "2d5ac91b-e4cb-4392-87b2-f7b86858c4a8",
   "metadata": {},
   "outputs": [],
   "source": []
  }
 ],
 "metadata": {
  "kernelspec": {
   "display_name": "Python 3 (ipykernel)",
   "language": "python",
   "name": "python3"
  },
  "language_info": {
   "codemirror_mode": {
    "name": "ipython",
    "version": 3
   },
   "file_extension": ".py",
   "mimetype": "text/x-python",
   "name": "python",
   "nbconvert_exporter": "python",
   "pygments_lexer": "ipython3",
   "version": "3.13.2"
  }
 },
 "nbformat": 4,
 "nbformat_minor": 5
}
